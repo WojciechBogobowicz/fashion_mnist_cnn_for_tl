{
 "cells": [
  {
   "cell_type": "code",
   "execution_count": 1,
   "metadata": {},
   "outputs": [
    {
     "name": "stderr",
     "output_type": "stream",
     "text": [
      "2024-06-03 09:28:35.809810: I tensorflow/core/util/port.cc:110] oneDNN custom operations are on. You may see slightly different numerical results due to floating-point round-off errors from different computation orders. To turn them off, set the environment variable `TF_ENABLE_ONEDNN_OPTS=0`.\n",
      "2024-06-03 09:28:35.846680: I tensorflow/core/platform/cpu_feature_guard.cc:182] This TensorFlow binary is optimized to use available CPU instructions in performance-critical operations.\n",
      "To enable the following instructions: AVX2 AVX512F AVX512_VNNI FMA, in other operations, rebuild TensorFlow with the appropriate compiler flags.\n",
      "2024-06-03 09:28:36.510711: W tensorflow/compiler/tf2tensorrt/utils/py_utils.cc:38] TF-TRT Warning: Could not find TensorRT\n"
     ]
    }
   ],
   "source": [
    "import tensorflow as tf\n",
    "import numpy as np\n",
    "import matplotlib.pyplot as plt\n"
   ]
  },
  {
   "cell_type": "code",
   "execution_count": 2,
   "metadata": {},
   "outputs": [
    {
     "name": "stdout",
     "output_type": "stream",
     "text": [
      "Training data shape: (60000, 28, 28, 1)\n",
      "Test data shape: (10000, 28, 28, 1)\n"
     ]
    }
   ],
   "source": [
    "# Load the dataset\n",
    "(x_train, y_train), (x_test, y_test) = tf.keras.datasets.fashion_mnist.load_data()\n",
    "\n",
    "# Normalize the images to the range [0, 1]\n",
    "x_train = x_train.astype('float32') / 255.0\n",
    "x_test = x_test.astype('float32') / 255.0\n",
    "\n",
    "# Add a channel dimension (since the images are grayscale)\n",
    "x_train = np.expand_dims(x_train, axis=-1)\n",
    "x_test = np.expand_dims(x_test, axis=-1)\n",
    "\n",
    "# Print the shape of the data\n",
    "print(f'Training data shape: {x_train.shape}')\n",
    "print(f'Test data shape: {x_test.shape}')"
   ]
  },
  {
   "cell_type": "code",
   "execution_count": 3,
   "metadata": {},
   "outputs": [],
   "source": [
    "# Encoder\n",
    "def build_encoder():\n",
    "    input_img = tf.keras.layers.Input(shape=(28, 28, 1))\n",
    "    x = tf.keras.layers.Conv2D(8, (3, 3), activation='relu', padding='same')(input_img)\n",
    "    x = tf.keras.layers.MaxPooling2D((2, 2), padding='same')(x)\n",
    "    x = tf.keras.layers.Conv2D(16, (3, 3), activation='relu', padding='same')(x)\n",
    "    x = tf.keras.layers.MaxPooling2D((2, 2), padding='same')(x)\n",
    "    encoded = tf.keras.layers.Conv2D(32, (3, 3), activation='relu', padding='same')(x)\n",
    "    return tf.keras.models.Model(input_img, encoded, name='encoder')\n",
    "\n",
    "# Decoder\n",
    "def build_decoder():\n",
    "    encoded_input = tf.keras.layers.Input(shape=(7, 7, 32))\n",
    "    x = tf.keras.layers.Conv2D(32, (3, 3), activation='relu', padding='same')(encoded_input)\n",
    "    x = tf.keras.layers.UpSampling2D((2, 2))(x)\n",
    "    x = tf.keras.layers.Conv2D(16, (3, 3), activation='relu', padding='same')(x)\n",
    "    x = tf.keras.layers.UpSampling2D((2, 2))(x)\n",
    "    x = tf.keras.layers.Conv2D(8, (3, 3), activation='relu', padding='same')(x)\n",
    "    decoded = tf.keras.layers.Conv2D(1, (3, 3), activation='sigmoid', padding='same')(x)\n",
    "    return tf.keras.models.Model(encoded_input, decoded, name='decoder')\n"
   ]
  },
  {
   "cell_type": "code",
   "execution_count": 4,
   "metadata": {},
   "outputs": [
    {
     "name": "stdout",
     "output_type": "stream",
     "text": [
      "Model: \"autoencoder\"\n",
      "_________________________________________________________________\n",
      " Layer (type)                Output Shape              Param #   \n",
      "=================================================================\n",
      " input_3 (InputLayer)        [(None, 28, 28, 1)]       0         \n",
      "                                                                 \n",
      " encoder (Functional)        (None, 7, 7, 32)          5888      \n",
      "                                                                 \n",
      " decoder (Functional)        (None, 28, 28, 1)         15105     \n",
      "                                                                 \n",
      "=================================================================\n",
      "Total params: 20,993\n",
      "Trainable params: 20,993\n",
      "Non-trainable params: 0\n",
      "_________________________________________________________________\n"
     ]
    },
    {
     "name": "stderr",
     "output_type": "stream",
     "text": [
      "2024-06-03 09:28:37.996513: I tensorflow/compiler/xla/stream_executor/cuda/cuda_gpu_executor.cc:996] successful NUMA node read from SysFS had negative value (-1), but there must be at least one NUMA node, so returning NUMA node zero. See more at https://github.com/torvalds/linux/blob/v6.0/Documentation/ABI/testing/sysfs-bus-pci#L344-L355\n",
      "2024-06-03 09:28:38.016662: I tensorflow/compiler/xla/stream_executor/cuda/cuda_gpu_executor.cc:996] successful NUMA node read from SysFS had negative value (-1), but there must be at least one NUMA node, so returning NUMA node zero. See more at https://github.com/torvalds/linux/blob/v6.0/Documentation/ABI/testing/sysfs-bus-pci#L344-L355\n",
      "2024-06-03 09:28:38.016847: I tensorflow/compiler/xla/stream_executor/cuda/cuda_gpu_executor.cc:996] successful NUMA node read from SysFS had negative value (-1), but there must be at least one NUMA node, so returning NUMA node zero. See more at https://github.com/torvalds/linux/blob/v6.0/Documentation/ABI/testing/sysfs-bus-pci#L344-L355\n",
      "2024-06-03 09:28:38.017777: I tensorflow/compiler/xla/stream_executor/cuda/cuda_gpu_executor.cc:996] successful NUMA node read from SysFS had negative value (-1), but there must be at least one NUMA node, so returning NUMA node zero. See more at https://github.com/torvalds/linux/blob/v6.0/Documentation/ABI/testing/sysfs-bus-pci#L344-L355\n",
      "2024-06-03 09:28:38.017924: I tensorflow/compiler/xla/stream_executor/cuda/cuda_gpu_executor.cc:996] successful NUMA node read from SysFS had negative value (-1), but there must be at least one NUMA node, so returning NUMA node zero. See more at https://github.com/torvalds/linux/blob/v6.0/Documentation/ABI/testing/sysfs-bus-pci#L344-L355\n",
      "2024-06-03 09:28:38.018011: I tensorflow/compiler/xla/stream_executor/cuda/cuda_gpu_executor.cc:996] successful NUMA node read from SysFS had negative value (-1), but there must be at least one NUMA node, so returning NUMA node zero. See more at https://github.com/torvalds/linux/blob/v6.0/Documentation/ABI/testing/sysfs-bus-pci#L344-L355\n",
      "2024-06-03 09:28:38.059774: I tensorflow/compiler/xla/stream_executor/cuda/cuda_gpu_executor.cc:996] successful NUMA node read from SysFS had negative value (-1), but there must be at least one NUMA node, so returning NUMA node zero. See more at https://github.com/torvalds/linux/blob/v6.0/Documentation/ABI/testing/sysfs-bus-pci#L344-L355\n",
      "2024-06-03 09:28:38.059924: I tensorflow/compiler/xla/stream_executor/cuda/cuda_gpu_executor.cc:996] successful NUMA node read from SysFS had negative value (-1), but there must be at least one NUMA node, so returning NUMA node zero. See more at https://github.com/torvalds/linux/blob/v6.0/Documentation/ABI/testing/sysfs-bus-pci#L344-L355\n",
      "2024-06-03 09:28:38.060009: I tensorflow/compiler/xla/stream_executor/cuda/cuda_gpu_executor.cc:996] successful NUMA node read from SysFS had negative value (-1), but there must be at least one NUMA node, so returning NUMA node zero. See more at https://github.com/torvalds/linux/blob/v6.0/Documentation/ABI/testing/sysfs-bus-pci#L344-L355\n",
      "2024-06-03 09:28:38.060098: I tensorflow/core/common_runtime/gpu/gpu_device.cc:1635] Created device /job:localhost/replica:0/task:0/device:GPU:0 with 1208 MB memory:  -> device: 0, name: NVIDIA GeForce RTX 3050 Laptop GPU, pci bus id: 0000:01:00.0, compute capability: 8.6\n"
     ]
    }
   ],
   "source": [
    "\n",
    "# Build the autoencoder\n",
    "encoder = build_encoder()\n",
    "decoder = build_decoder()\n",
    "autoencoder_input = tf.keras.layers.Input(shape=(28, 28, 1))\n",
    "encoded_img = encoder(autoencoder_input)\n",
    "decoded_img = decoder(encoded_img)\n",
    "autoencoder = tf.keras.models.Model(autoencoder_input, decoded_img, name='autoencoder')\n",
    "\n",
    "# Compile the model\n",
    "autoencoder.compile(optimizer='adam', loss='binary_crossentropy')\n",
    "\n",
    "# Print the model summary\n",
    "autoencoder.summary()\n"
   ]
  },
  {
   "cell_type": "code",
   "execution_count": 5,
   "metadata": {},
   "outputs": [
    {
     "name": "stdout",
     "output_type": "stream",
     "text": [
      "Epoch 1/40\n"
     ]
    },
    {
     "name": "stderr",
     "output_type": "stream",
     "text": [
      "2024-06-03 09:28:39.418202: I tensorflow/compiler/xla/stream_executor/cuda/cuda_dnn.cc:424] Loaded cuDNN version 8900\n",
      "2024-06-03 09:28:40.599400: I tensorflow/compiler/xla/service/service.cc:169] XLA service 0x7a40c4028d30 initialized for platform CUDA (this does not guarantee that XLA will be used). Devices:\n",
      "2024-06-03 09:28:40.599432: I tensorflow/compiler/xla/service/service.cc:177]   StreamExecutor device (0): NVIDIA GeForce RTX 3050 Laptop GPU, Compute Capability 8.6\n",
      "2024-06-03 09:28:40.602648: I tensorflow/compiler/mlir/tensorflow/utils/dump_mlir_util.cc:269] disabling MLIR crash reproducer, set env var `MLIR_CRASH_REPRODUCER_DIRECTORY` to enable.\n",
      "2024-06-03 09:28:40.704034: I ./tensorflow/compiler/jit/device_compiler.h:180] Compiled cluster using XLA!  This line is logged at most once for the lifetime of the process.\n"
     ]
    },
    {
     "name": "stdout",
     "output_type": "stream",
     "text": [
      "235/235 [==============================] - 11s 25ms/step - loss: 0.3413 - val_loss: 0.2902\n",
      "Epoch 2/40\n",
      "235/235 [==============================] - 3s 13ms/step - loss: 0.2817 - val_loss: 0.2792\n",
      "Epoch 3/40\n",
      "235/235 [==============================] - 3s 12ms/step - loss: 0.2745 - val_loss: 0.2743\n",
      "Epoch 4/40\n",
      "235/235 [==============================] - 3s 13ms/step - loss: 0.2709 - val_loss: 0.2717\n",
      "Epoch 5/40\n",
      "235/235 [==============================] - 3s 13ms/step - loss: 0.2687 - val_loss: 0.2697\n",
      "Epoch 6/40\n",
      "235/235 [==============================] - 3s 13ms/step - loss: 0.2670 - val_loss: 0.2680\n",
      "Epoch 7/40\n",
      "235/235 [==============================] - 3s 12ms/step - loss: 0.2655 - val_loss: 0.2670\n",
      "Epoch 8/40\n",
      "235/235 [==============================] - 3s 14ms/step - loss: 0.2644 - val_loss: 0.2660\n",
      "Epoch 9/40\n",
      "235/235 [==============================] - 3s 14ms/step - loss: 0.2635 - val_loss: 0.2650\n",
      "Epoch 10/40\n",
      "235/235 [==============================] - 3s 13ms/step - loss: 0.2627 - val_loss: 0.2643\n",
      "Epoch 11/40\n",
      "235/235 [==============================] - 3s 12ms/step - loss: 0.2620 - val_loss: 0.2637\n",
      "Epoch 12/40\n",
      "235/235 [==============================] - 3s 13ms/step - loss: 0.2615 - val_loss: 0.2630\n",
      "Epoch 13/40\n",
      "235/235 [==============================] - 3s 13ms/step - loss: 0.2608 - val_loss: 0.2625\n",
      "Epoch 14/40\n",
      "235/235 [==============================] - 3s 13ms/step - loss: 0.2604 - val_loss: 0.2629\n",
      "Epoch 15/40\n",
      "235/235 [==============================] - 3s 11ms/step - loss: 0.2599 - val_loss: 0.2618\n",
      "Epoch 16/40\n",
      "235/235 [==============================] - 3s 13ms/step - loss: 0.2595 - val_loss: 0.2613\n",
      "Epoch 17/40\n",
      "235/235 [==============================] - 3s 13ms/step - loss: 0.2593 - val_loss: 0.2614\n",
      "Epoch 18/40\n",
      "235/235 [==============================] - 3s 13ms/step - loss: 0.2589 - val_loss: 0.2608\n",
      "Epoch 19/40\n",
      "235/235 [==============================] - 3s 11ms/step - loss: 0.2586 - val_loss: 0.2604\n",
      "Epoch 20/40\n",
      "235/235 [==============================] - 3s 13ms/step - loss: 0.2584 - val_loss: 0.2602\n",
      "Epoch 21/40\n",
      "235/235 [==============================] - 3s 14ms/step - loss: 0.2580 - val_loss: 0.2602\n",
      "Epoch 22/40\n",
      "235/235 [==============================] - 3s 14ms/step - loss: 0.2578 - val_loss: 0.2616\n",
      "Epoch 23/40\n",
      "235/235 [==============================] - 3s 11ms/step - loss: 0.2575 - val_loss: 0.2596\n",
      "Epoch 24/40\n",
      "235/235 [==============================] - 2s 9ms/step - loss: 0.2574 - val_loss: 0.2592\n",
      "Epoch 25/40\n",
      "235/235 [==============================] - 2s 9ms/step - loss: 0.2571 - val_loss: 0.2590\n",
      "Epoch 26/40\n",
      "235/235 [==============================] - 2s 9ms/step - loss: 0.2570 - val_loss: 0.2588\n",
      "Epoch 27/40\n",
      "235/235 [==============================] - 2s 9ms/step - loss: 0.2568 - val_loss: 0.2594\n",
      "Epoch 28/40\n",
      "235/235 [==============================] - 2s 9ms/step - loss: 0.2566 - val_loss: 0.2585\n",
      "Epoch 29/40\n",
      "235/235 [==============================] - 2s 9ms/step - loss: 0.2564 - val_loss: 0.2584\n",
      "Epoch 30/40\n",
      "235/235 [==============================] - 2s 9ms/step - loss: 0.2563 - val_loss: 0.2585\n",
      "Epoch 31/40\n",
      "235/235 [==============================] - 2s 9ms/step - loss: 0.2562 - val_loss: 0.2580\n",
      "Epoch 32/40\n",
      "235/235 [==============================] - 2s 9ms/step - loss: 0.2560 - val_loss: 0.2580\n",
      "Epoch 33/40\n",
      "235/235 [==============================] - 2s 9ms/step - loss: 0.2559 - val_loss: 0.2584\n",
      "Epoch 34/40\n",
      "235/235 [==============================] - 2s 9ms/step - loss: 0.2558 - val_loss: 0.2582\n",
      "Epoch 35/40\n",
      "235/235 [==============================] - 2s 9ms/step - loss: 0.2556 - val_loss: 0.2577\n",
      "Epoch 36/40\n",
      "235/235 [==============================] - 2s 9ms/step - loss: 0.2555 - val_loss: 0.2576\n",
      "Epoch 37/40\n",
      "235/235 [==============================] - 2s 9ms/step - loss: 0.2554 - val_loss: 0.2578\n",
      "Epoch 38/40\n",
      "235/235 [==============================] - 2s 9ms/step - loss: 0.2553 - val_loss: 0.2575\n",
      "Epoch 39/40\n",
      "235/235 [==============================] - 2s 9ms/step - loss: 0.2552 - val_loss: 0.2571\n",
      "Epoch 40/40\n",
      "235/235 [==============================] - 2s 9ms/step - loss: 0.2551 - val_loss: 0.2580\n"
     ]
    }
   ],
   "source": [
    "# Train the autoencoder\n",
    "history = autoencoder.fit(x_train, x_train,\n",
    "                          epochs=40,\n",
    "                          batch_size=256,\n",
    "                          shuffle=True,\n",
    "                          validation_data=(x_test, x_test))"
   ]
  },
  {
   "cell_type": "code",
   "execution_count": 6,
   "metadata": {},
   "outputs": [
    {
     "name": "stdout",
     "output_type": "stream",
     "text": [
      "313/313 [==============================] - 0s 819us/step\n",
      "313/313 [==============================] - 0s 607us/step\n"
     ]
    },
    {
     "data": {
      "image/png": "[encoded data removed]",
      "text/plain": [
       "<Figure size 2000x400 with 20 Axes>"
      ]
     },
     "metadata": {},
     "output_type": "display_data"
    }
   ],
   "source": [
    "# Encode and decode some images\n",
    "encoded_imgs = encoder.predict(x_test)\n",
    "decoded_imgs = decoder.predict(encoded_imgs)\n",
    "\n",
    "# Display the original and reconstructed images\n",
    "n = 10\n",
    "plt.figure(figsize=(20, 4))\n",
    "for i in range(n):\n",
    "    # Display original\n",
    "    ax = plt.subplot(2, n, i + 1)\n",
    "    plt.imshow(x_test[i].reshape(28, 28), cmap='gray')\n",
    "    plt.title(\"Original\")\n",
    "    plt.axis('off')\n",
    "\n",
    "    # Display reconstruction\n",
    "    ax = plt.subplot(2, n, i + 1 + n)\n",
    "    plt.imshow(decoded_imgs[i].reshape(28, 28), cmap='gray')\n",
    "    plt.title(\"Reconstructed\")\n",
    "    plt.axis('off')\n",
    "\n",
    "plt.show()\n"
   ]
  },
  {
   "cell_type": "markdown",
   "metadata": {},
   "source": [
    "# Classification"
   ]
  },
  {
   "cell_type": "code",
   "execution_count": 7,
   "metadata": {},
   "outputs": [
    {
     "name": "stdout",
     "output_type": "stream",
     "text": [
      "Model: \"encoder\"\n",
      "_________________________________________________________________\n",
      " Layer (type)                Output Shape              Param #   \n",
      "=================================================================\n",
      " input_1 (InputLayer)        [(None, 28, 28, 1)]       0         \n",
      "                                                                 \n",
      " conv2d (Conv2D)             (None, 28, 28, 8)         80        \n",
      "                                                                 \n",
      " max_pooling2d (MaxPooling2D  (None, 14, 14, 8)        0         \n",
      " )                                                               \n",
      "                                                                 \n",
      " conv2d_1 (Conv2D)           (None, 14, 14, 16)        1168      \n",
      "                                                                 \n",
      " max_pooling2d_1 (MaxPooling  (None, 7, 7, 16)         0         \n",
      " 2D)                                                             \n",
      "                                                                 \n",
      " conv2d_2 (Conv2D)           (None, 7, 7, 32)          4640      \n",
      "                                                                 \n",
      "=================================================================\n",
      "Total params: 5,888\n",
      "Trainable params: 5,888\n",
      "Non-trainable params: 0\n",
      "_________________________________________________________________\n"
     ]
    }
   ],
   "source": [
    "encoder.summary()"
   ]
  },
  {
   "cell_type": "code",
   "execution_count": 8,
   "metadata": {},
   "outputs": [],
   "source": [
    "def global_avg_model():\n",
    "    #val acc 85\n",
    "    for layer in encoder.layers:\n",
    "        layer.trainable = False\n",
    "\n",
    "    input_img = tf.keras.layers.Input(shape=(28, 28, 1))\n",
    "    x = encoder(input_img)\n",
    "    x = tf.keras.layers.Conv2D(10, (3, 3), padding='same')(x)\n",
    "    x = tf.keras.layers.MaxPooling2D((2, 2), padding='same')(x)\n",
    "    logits = tf.keras.layers.GlobalAvgPool2D()(x)\n",
    "\n",
    "    model = tf.keras.models.Model(input_img, logits, name='classifier')\n",
    "    return model\n",
    "\n",
    "\n",
    "def global_avg_model_with_dense():\n",
    "    #val acc 70\n",
    "    for layer in encoder.layers:\n",
    "        layer.trainable = False\n",
    "\n",
    "    input_img = tf.keras.layers.Input(shape=(28, 28, 1))\n",
    "    x = encoder(input_img)\n",
    "    # x = tf.keras.layers.Conv2D(10, (3, 3), padding='same')(x)\n",
    "    # x = tf.keras.layers.MaxPooling2D((2, 2), padding='same')(x)\n",
    "    x = tf.keras.layers.GlobalAvgPool2D()(x)\n",
    "    logits = tf.keras.layers.Dense(10)(x)\n",
    "    model = tf.keras.models.Model(input_img, logits, name='classifier')\n",
    "    return model\n",
    "\n",
    "def pure_cnn():\n",
    "    # val acc 50%\n",
    "    input_img = tf.keras.layers.Input(shape=(28, 28, 1))\n",
    "    x = encoder(input_img)\n",
    "    x = tf.keras.layers.Conv2D(64, (3, 3), padding='same', activation='relu')(x)\n",
    "    x = tf.keras.layers.MaxPooling2D((2, 2), padding='same')(x)\n",
    "    x = tf.keras.layers.Conv2D(10, (4, 4), padding='valid', activation='relu')(x)\n",
    "    x = tf.keras.layers.Flatten()(x)\n",
    "    model = tf.keras.models.Model(input_img, x, name='classifier')\n",
    "    return model\n",
    "\n",
    "\n",
    "def pure_dense():\n",
    "    # val acc 90%\n",
    "    input_img = tf.keras.layers.Input(shape=(28, 28, 1))\n",
    "    x = encoder(input_img)\n",
    "    x = tf.keras.layers.Flatten()(x)\n",
    "    x = tf.keras.layers.Dense(10)(x)\n",
    "    model = tf.keras.models.Model(input_img, x, name='classifier')\n",
    "    return model\n",
    "\n",
    "\n",
    "def pure_dense_deeper():\n",
    "    # val acc 87%\n",
    "    input_img = tf.keras.layers.Input(shape=(28, 28, 1))\n",
    "    x = encoder(input_img)\n",
    "    x = tf.keras.layers.Flatten()(x)\n",
    "    x = tf.keras.layers.Dense(128)(x)\n",
    "    x = tf.keras.layers.Dense(10)(x)\n",
    "    model = tf.keras.models.Model(input_img, x, name='classifier')\n",
    "    return model\n",
    "\n",
    "\n",
    "\n",
    "def pure_dense_unfreezed(n=3):\n",
    "    # val acc 89%\n",
    "    encoder.trainable = False\n",
    "    for layer in encoder.layers[-n:]:\n",
    "        layer.trainable = True\n",
    "        \n",
    "    input_img = tf.keras.layers.Input(shape=(28, 28, 1))\n",
    "    x = encoder(input_img)\n",
    "    x = tf.keras.layers.Flatten()(x)\n",
    "    x = tf.keras.layers.Dense(10)(x)\n",
    "    model = tf.keras.models.Model(input_img, x, name='classifier')\n",
    "    return model\n",
    "\n",
    "model = pure_dense()\n"
   ]
  },
  {
   "cell_type": "code",
   "execution_count": 9,
   "metadata": {},
   "outputs": [
    {
     "name": "stdout",
     "output_type": "stream",
     "text": [
      "Model: \"classifier\"\n",
      "_________________________________________________________________\n",
      " Layer (type)                Output Shape              Param #   \n",
      "=================================================================\n",
      " input_4 (InputLayer)        [(None, 28, 28, 1)]       0         \n",
      "                                                                 \n",
      " encoder (Functional)        (None, 7, 7, 32)          5888      \n",
      "                                                                 \n",
      " flatten (Flatten)           (None, 1568)              0         \n",
      "                                                                 \n",
      " dense (Dense)               (None, 10)                15690     \n",
      "                                                                 \n",
      "=================================================================\n",
      "Total params: 21,578\n",
      "Trainable params: 21,578\n",
      "Non-trainable params: 0\n",
      "_________________________________________________________________\n"
     ]
    }
   ],
   "source": [
    "\n",
    "model.summary()\n"
   ]
  },
  {
   "cell_type": "code",
   "execution_count": 74,
   "metadata": {},
   "outputs": [],
   "source": [
    "model.compile(\n",
    "    optimizer=\"adam\",\n",
    "    loss=tf.keras.losses.SparseCategoricalCrossentropy(from_logits=True), \n",
    "    metrics=['accuracy']\n",
    ")"
   ]
  },
  {
   "cell_type": "code",
   "execution_count": 76,
   "metadata": {},
   "outputs": [
    {
     "name": "stdout",
     "output_type": "stream",
     "text": [
      "Epoch 1/30\n",
      "1407/1407 [==============================] - 2s 2ms/step - loss: 0.2673 - accuracy: 0.9021 - val_loss: 0.3016 - val_accuracy: 0.8923\n",
      "Epoch 2/30\n",
      "1407/1407 [==============================] - 2s 1ms/step - loss: 0.2655 - accuracy: 0.9036 - val_loss: 0.2886 - val_accuracy: 0.8981\n",
      "Epoch 3/30\n",
      "1407/1407 [==============================] - 2s 1ms/step - loss: 0.2629 - accuracy: 0.9046 - val_loss: 0.3049 - val_accuracy: 0.8904\n",
      "Epoch 4/30\n",
      "1407/1407 [==============================] - 2s 1ms/step - loss: 0.2623 - accuracy: 0.9041 - val_loss: 0.2997 - val_accuracy: 0.8932\n",
      "Epoch 5/30\n",
      "1407/1407 [==============================] - 2s 1ms/step - loss: 0.2625 - accuracy: 0.9035 - val_loss: 0.2972 - val_accuracy: 0.8916\n",
      "Epoch 6/30\n",
      "1407/1407 [==============================] - 2s 1ms/step - loss: 0.2607 - accuracy: 0.9044 - val_loss: 0.3095 - val_accuracy: 0.8872\n",
      "Epoch 7/30\n",
      "1407/1407 [==============================] - 2s 2ms/step - loss: 0.2582 - accuracy: 0.9060 - val_loss: 0.2955 - val_accuracy: 0.8941\n",
      "Epoch 8/30\n",
      "1407/1407 [==============================] - 2s 1ms/step - loss: 0.2581 - accuracy: 0.9039 - val_loss: 0.3022 - val_accuracy: 0.8923\n",
      "Epoch 9/30\n",
      "1407/1407 [==============================] - 2s 2ms/step - loss: 0.2564 - accuracy: 0.9050 - val_loss: 0.2919 - val_accuracy: 0.8956\n",
      "Epoch 10/30\n",
      "1407/1407 [==============================] - 2s 1ms/step - loss: 0.2559 - accuracy: 0.9071 - val_loss: 0.2900 - val_accuracy: 0.8964\n",
      "Epoch 11/30\n",
      "1407/1407 [==============================] - 2s 2ms/step - loss: 0.2550 - accuracy: 0.9061 - val_loss: 0.3184 - val_accuracy: 0.8857\n",
      "Epoch 12/30\n",
      "1407/1407 [==============================] - 2s 1ms/step - loss: 0.2553 - accuracy: 0.9052 - val_loss: 0.2917 - val_accuracy: 0.8943\n",
      "Epoch 13/30\n",
      "1407/1407 [==============================] - 2s 1ms/step - loss: 0.2530 - accuracy: 0.9077 - val_loss: 0.3045 - val_accuracy: 0.8914\n",
      "Epoch 14/30\n",
      "1407/1407 [==============================] - 2s 2ms/step - loss: 0.2523 - accuracy: 0.9072 - val_loss: 0.3126 - val_accuracy: 0.8871\n",
      "Epoch 15/30\n",
      "1407/1407 [==============================] - 2s 1ms/step - loss: 0.2504 - accuracy: 0.9076 - val_loss: 0.2914 - val_accuracy: 0.8963\n",
      "Epoch 16/30\n",
      "1407/1407 [==============================] - 2s 1ms/step - loss: 0.2519 - accuracy: 0.9073 - val_loss: 0.3189 - val_accuracy: 0.8853\n",
      "Epoch 17/30\n",
      "1407/1407 [==============================] - 2s 2ms/step - loss: 0.2511 - accuracy: 0.9077 - val_loss: 0.2950 - val_accuracy: 0.8961\n",
      "Epoch 18/30\n",
      "1407/1407 [==============================] - 2s 1ms/step - loss: 0.2495 - accuracy: 0.9085 - val_loss: 0.3061 - val_accuracy: 0.8913\n",
      "Epoch 19/30\n",
      "1407/1407 [==============================] - 2s 1ms/step - loss: 0.2496 - accuracy: 0.9079 - val_loss: 0.3058 - val_accuracy: 0.8914\n",
      "Epoch 20/30\n",
      "1407/1407 [==============================] - 2s 1ms/step - loss: 0.2496 - accuracy: 0.9080 - val_loss: 0.2969 - val_accuracy: 0.8928\n",
      "Epoch 21/30\n",
      "1407/1407 [==============================] - 2s 1ms/step - loss: 0.2462 - accuracy: 0.9090 - val_loss: 0.3007 - val_accuracy: 0.8904\n",
      "Epoch 22/30\n",
      "1407/1407 [==============================] - 2s 1ms/step - loss: 0.2487 - accuracy: 0.9085 - val_loss: 0.3554 - val_accuracy: 0.8750\n",
      "Epoch 23/30\n",
      "1407/1407 [==============================] - 2s 1ms/step - loss: 0.2467 - accuracy: 0.9102 - val_loss: 0.2986 - val_accuracy: 0.8941\n",
      "Epoch 24/30\n",
      "1407/1407 [==============================] - 2s 1ms/step - loss: 0.2480 - accuracy: 0.9083 - val_loss: 0.3390 - val_accuracy: 0.8779\n",
      "Epoch 25/30\n",
      "1407/1407 [==============================] - 2s 1ms/step - loss: 0.2448 - accuracy: 0.9097 - val_loss: 0.3135 - val_accuracy: 0.8892\n",
      "Epoch 26/30\n",
      "1407/1407 [==============================] - 2s 1ms/step - loss: 0.2468 - accuracy: 0.9095 - val_loss: 0.3002 - val_accuracy: 0.8923\n",
      "Epoch 27/30\n",
      "1407/1407 [==============================] - 2s 1ms/step - loss: 0.2444 - accuracy: 0.9116 - val_loss: 0.2892 - val_accuracy: 0.8974\n",
      "Epoch 28/30\n",
      "1407/1407 [==============================] - 2s 1ms/step - loss: 0.2420 - accuracy: 0.9117 - val_loss: 0.2978 - val_accuracy: 0.8956\n",
      "Epoch 29/30\n",
      "1407/1407 [==============================] - 2s 1ms/step - loss: 0.2429 - accuracy: 0.9112 - val_loss: 0.2893 - val_accuracy: 0.8971\n",
      "Epoch 30/30\n",
      "1407/1407 [==============================] - 2s 1ms/step - loss: 0.2417 - accuracy: 0.9117 - val_loss: 0.2882 - val_accuracy: 0.8974\n"
     ]
    }
   ],
   "source": [
    "history = model.fit(x_train, y_train, epochs=30, \n",
    "                    validation_split=0.25)"
   ]
  },
  {
   "cell_type": "code",
   "execution_count": null,
   "metadata": {},
   "outputs": [],
   "source": []
  }
 ],
 "metadata": {
  "kernelspec": {
   "display_name": "tf_env",
   "language": "python",
   "name": "python3"
  },
  "language_info": {
   "codemirror_mode": {
    "name": "ipython",
    "version": 3
   },
   "file_extension": ".py",
   "mimetype": "text/x-python",
   "name": "python",
   "nbconvert_exporter": "python",
   "pygments_lexer": "ipython3",
   "version": "3.10.9"
  }
 },
 "nbformat": 4,
 "nbformat_minor": 2
}
