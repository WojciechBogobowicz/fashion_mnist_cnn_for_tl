{
  "cells": [
    {
      "cell_type": "markdown",
      "metadata": {},
      "source": [
        "based on [google colab tutorial](https://colab.research.google.com/github/timsainb/tensorflow2-generative-models/blob/master/1.0-Variational-Autoencoder-fashion-mnist.ipynb) not finished yet"
      ]
    },
    {
      "cell_type": "markdown",
      "metadata": {
        "id": "a38uG0tIFmES"
      },
      "source": [
        "### load packages"
      ]
    },
    {
      "cell_type": "code",
      "execution_count": null,
      "metadata": {
        "ExecuteTime": {
          "end_time": "2019-05-10T19:17:29.886938Z",
          "start_time": "2019-05-10T19:17:26.656978Z"
        },
        "id": "l0FL4z0aFmES",
        "outputId": "974f7305-2717-480c-d7ab-5f32e0f5011f"
      },
      "outputs": [],
      "source": [
        "import tensorflow as tf\n",
        "import numpy as np\n",
        "import matplotlib.pyplot as plt\n",
        "from tqdm.autonotebook import tqdm\n",
        "from IPython import display\n",
        "import pandas as pd\n",
        "\n",
        "import tensorflow_probability as tfp\n",
        "ds = tfp.distributions\n",
        "\n"
      ]
    },
    {
      "cell_type": "code",
      "execution_count": null,
      "metadata": {
        "ExecuteTime": {
          "end_time": "2019-05-10T19:17:29.891899Z",
          "start_time": "2019-05-10T19:17:29.888777Z"
        },
        "id": "9-uxJ0v8FmET",
        "outputId": "39c1f88f-3d3d-4ff4-88d9-827ededd1b6a"
      },
      "outputs": [],
      "source": [
        "print(tf.__version__, tfp.__version__)"
      ]
    },
    {
      "cell_type": "markdown",
      "metadata": {
        "id": "7bqNpUqjFmET"
      },
      "source": [
        "### Create a fashion-MNIST dataset"
      ]
    },
    {
      "cell_type": "code",
      "execution_count": null,
      "metadata": {
        "ExecuteTime": {
          "end_time": "2019-05-10T19:17:29.985874Z",
          "start_time": "2019-05-10T19:17:29.893678Z"
        },
        "id": "_PqJdmUAFmEU"
      },
      "outputs": [],
      "source": [
        "TRAIN_BUF=60000\n",
        "BATCH_SIZE=512\n",
        "TEST_BUF=10000\n",
        "DIMS = (28,28,1)\n",
        "N_TRAIN_BATCHES =int(TRAIN_BUF/BATCH_SIZE)\n",
        "N_TEST_BATCHES = int(TEST_BUF/BATCH_SIZE)"
      ]
    },
    {
      "cell_type": "code",
      "execution_count": null,
      "metadata": {
        "ExecuteTime": {
          "end_time": "2019-05-10T19:17:35.609703Z",
          "start_time": "2019-05-10T19:17:29.987583Z"
        },
        "id": "0aoJlBJdFmEU"
      },
      "outputs": [],
      "source": [
        "# load dataset\n",
        "(train_images, _), (test_images, _) = tf.keras.datasets.fashion_mnist.load_data()\n",
        "\n",
        "# split dataset\n",
        "train_images = train_images.reshape(train_images.shape[0], 28, 28, 1).astype(\n",
        "    \"float32\"\n",
        ") / 255.0\n",
        "test_images = test_images.reshape(test_images.shape[0], 28, 28, 1).astype(\"float32\") / 255.0\n",
        "\n",
        "# batch datasets\n",
        "train_dataset = (\n",
        "    tf.data.Dataset.from_tensor_slices(train_images)\n",
        "    .shuffle(TRAIN_BUF)\n",
        "    .batch(BATCH_SIZE)\n",
        ")\n",
        "test_dataset = (\n",
        "    tf.data.Dataset.from_tensor_slices(test_images)\n",
        "    .shuffle(TEST_BUF)\n",
        "    .batch(BATCH_SIZE)\n",
        ")"
      ]
    },
    {
      "cell_type": "markdown",
      "metadata": {
        "id": "nD4l-BOaFmEU"
      },
      "source": [
        "### Define the network as tf.keras.model object"
      ]
    },
    {
      "cell_type": "code",
      "execution_count": null,
      "metadata": {
        "ExecuteTime": {
          "end_time": "2019-05-10T19:17:35.629037Z",
          "start_time": "2019-05-10T19:17:35.611888Z"
        },
        "id": "aAiV-koaFmEV"
      },
      "outputs": [],
      "source": [
        "class VAE(tf.keras.Model):\n",
        "    \"\"\"a basic vae class for tensorflow\n",
        "    Extends:\n",
        "        tf.keras.Model\n",
        "    \"\"\"\n",
        "\n",
        "    def __init__(self, **kwargs):\n",
        "        super(VAE, self).__init__()\n",
        "        self.__dict__.update(kwargs)\n",
        "\n",
        "        self.enc = tf.keras.Sequential(self.enc)\n",
        "        self.dec = tf.keras.Sequential(self.dec)\n",
        "\n",
        "    def encode(self, x):\n",
        "        mu, sigma = tf.split(self.enc(x), num_or_size_splits=2, axis=1)\n",
        "        return ds.MultivariateNormalDiag(loc=mu, scale_diag=sigma)\n",
        "\n",
        "    def reparameterize(self, mean, logvar):\n",
        "        eps = tf.random.normal(shape=mean.shape)\n",
        "        return eps * tf.exp(logvar * 0.5) + mean\n",
        "\n",
        "    def reconstruct(self, x):\n",
        "        mu, _ = tf.split(self.enc(x), num_or_size_splits=2, axis=1)\n",
        "        return self.decode(mu)\n",
        "\n",
        "    def decode(self, z):\n",
        "        return self.dec(z)\n",
        "\n",
        "    def compute_loss(self, x):\n",
        "        q_z = self.encode(x)\n",
        "        z = q_z.sample()\n",
        "        x_recon = self.decode(z)\n",
        "        p_z = ds.MultivariateNormalDiag(\n",
        "          loc=[0.] * z.shape[-1], scale_diag=[1.] * z.shape[-1]\n",
        "          )\n",
        "        kl_div = ds.kl_divergence(q_z, p_z)\n",
        "        latent_loss = tf.reduce_mean(tf.maximum(kl_div, 0))\n",
        "        recon_loss = tf.reduce_mean(tf.reduce_sum(tf.math.square(x - x_recon), axis=0))\n",
        "\n",
        "        return recon_loss, latent_loss\n",
        "\n",
        "    def compute_gradients(self, x):\n",
        "        with tf.GradientTape() as tape:\n",
        "            loss = self.compute_loss(x)\n",
        "        return tape.gradient(loss, self.trainable_variables)\n",
        "\n",
        "    @tf.function\n",
        "    def train(self, train_x):\n",
        "        gradients = self.compute_gradients(train_x)\n",
        "        self.optimizer.apply_gradients(zip(gradients, self.trainable_variables))"
      ]
    },
    {
      "cell_type": "markdown",
      "metadata": {
        "id": "_Wn9ZMWjFmEV"
      },
      "source": [
        "### Define the network architecture"
      ]
    },
    {
      "cell_type": "code",
      "execution_count": null,
      "metadata": {
        "ExecuteTime": {
          "end_time": "2019-05-10T19:17:35.869467Z",
          "start_time": "2019-05-10T19:17:35.630938Z"
        },
        "id": "hGdIW_1GFmEV"
      },
      "outputs": [],
      "source": [
        "N_Z = 2\n",
        "encoder = [\n",
        "    tf.keras.layers.InputLayer(input_shape=DIMS),\n",
        "    tf.keras.layers.Conv2D(\n",
        "        filters=32, kernel_size=3, strides=(2, 2), activation=\"relu\"\n",
        "    ),\n",
        "    tf.keras.layers.Conv2D(\n",
        "        filters=64, kernel_size=3, strides=(2, 2), activation=\"relu\"\n",
        "    ),\n",
        "    tf.keras.layers.Flatten(),\n",
        "    tf.keras.layers.Dense(units=N_Z*2),\n",
        "]\n",
        "\n",
        "decoder = [\n",
        "    tf.keras.layers.Dense(units=7 * 7 * 64, activation=\"relu\"),\n",
        "    tf.keras.layers.Reshape(target_shape=(7, 7, 64)),\n",
        "    tf.keras.layers.Conv2DTranspose(\n",
        "        filters=64, kernel_size=3, strides=(2, 2), padding=\"SAME\", activation=\"relu\"\n",
        "    ),\n",
        "    tf.keras.layers.Conv2DTranspose(\n",
        "        filters=32, kernel_size=3, strides=(2, 2), padding=\"SAME\", activation=\"relu\"\n",
        "    ),\n",
        "    tf.keras.layers.Conv2DTranspose(\n",
        "        filters=1, kernel_size=3, strides=(1, 1), padding=\"SAME\", activation=\"sigmoid\"\n",
        "    ),\n",
        "]"
      ]
    },
    {
      "cell_type": "markdown",
      "metadata": {
        "ExecuteTime": {
          "end_time": "2019-05-10T18:40:40.306731Z",
          "start_time": "2019-05-10T18:40:40.292930Z"
        },
        "id": "e25z6LxMFmEV"
      },
      "source": [
        "### Create Model"
      ]
    },
    {
      "cell_type": "code",
      "execution_count": null,
      "metadata": {
        "ExecuteTime": {
          "end_time": "2019-05-10T19:17:36.796282Z",
          "start_time": "2019-05-10T19:17:35.872282Z"
        },
        "id": "V37UdEkVFmEV"
      },
      "outputs": [],
      "source": [
        "# the optimizer for the model\n",
        "optimizer = tf.keras.optimizers.Adam(1e-3)\n",
        "# train the model\n",
        "model = VAE(\n",
        "    enc=encoder,\n",
        "    dec=decoder,\n",
        "    optimizer=optimizer,\n",
        ")"
      ]
    },
    {
      "cell_type": "markdown",
      "metadata": {
        "id": "C_JedOpcFmEV"
      },
      "source": [
        "### Train the model"
      ]
    },
    {
      "cell_type": "code",
      "execution_count": null,
      "metadata": {
        "ExecuteTime": {
          "end_time": "2019-05-10T19:17:37.443010Z",
          "start_time": "2019-05-10T19:17:36.800302Z"
        },
        "id": "EZo6JXrvFmEV"
      },
      "outputs": [],
      "source": [
        "# exampled data for plotting results\n",
        "example_data = next(iter(test_dataset))\n",
        "\n",
        "\n",
        "def plot_reconstruction(model, example_data, nex=8, zm=2):\n",
        "\n",
        "    example_data_reconstructed = model.reconstruct(example_data)\n",
        "    samples = model.decode(tf.random.normal(shape=(BATCH_SIZE, N_Z)))\n",
        "    fig, axs = plt.subplots(ncols=nex, nrows=3, figsize=(zm * nex, zm * 3))\n",
        "    for axi, (dat, lab) in enumerate(\n",
        "        zip(\n",
        "            [example_data, example_data_reconstructed, samples],\n",
        "            [\"data\", \"data recon\", \"samples\"],\n",
        "        )\n",
        "    ):\n",
        "        for ex in range(nex):\n",
        "            axs[axi, ex].matshow(\n",
        "                dat.numpy()[ex].squeeze(), cmap=plt.cm.Greys, vmin=0, vmax=1\n",
        "            )\n",
        "            axs[axi, ex].axes.get_xaxis().set_ticks([])\n",
        "            axs[axi, ex].axes.get_yaxis().set_ticks([])\n",
        "        axs[axi, 0].set_ylabel(lab)\n",
        "\n",
        "    plt.show()"
      ]
    },
    {
      "cell_type": "code",
      "execution_count": null,
      "metadata": {
        "ExecuteTime": {
          "end_time": "2019-05-10T19:17:37.456384Z",
          "start_time": "2019-05-10T19:17:37.445204Z"
        },
        "id": "7rhq9aUpFmEW"
      },
      "outputs": [],
      "source": [
        "# a pandas dataframe to save the loss information to\n",
        "losses = pd.DataFrame(columns=['recon_loss', 'latent_loss'])"
      ]
    },
    {
      "cell_type": "code",
      "execution_count": null,
      "metadata": {
        "ExecuteTime": {
          "end_time": "2019-05-10T19:23:40.342635Z",
          "start_time": "2019-05-10T19:17:37.458290Z"
        },
        "id": "ExO54xjaFmEW",
        "outputId": "f800052c-977f-4943-8018-df320c95fba1"
      },
      "outputs": [],
      "source": [
        "n_epochs = 20\n",
        "for epoch in range(n_epochs):\n",
        "    # train\n",
        "    for batch, train_x in tqdm(zip(range(N_TRAIN_BATCHES), train_dataset), total=N_TRAIN_BATCHES):\n",
        "        model.train(train_x)\n",
        "    # test on holdout\n",
        "    loss = []\n",
        "    for batch, test_x in tqdm(zip(range(N_TEST_BATCHES), test_dataset), total=N_TEST_BATCHES):\n",
        "        loss.append(model.compute_loss(train_x))\n",
        "    losses.loc[len(losses)] = np.mean(loss, axis=0)\n",
        "    # plot results\n",
        "    print(f\"Epoch: {epoch}/{n_epochs} | recon_loss: {losses.recon_loss.values[-1]} | latent_loss: {losses.latent_loss.values[-1]}\")\n",
        "    if (epoch % 10) == 0:\n",
        "        plot_reconstruction(model, example_data)"
      ]
    },
    {
      "cell_type": "markdown",
      "metadata": {},
      "source": [
        "# Classification"
      ]
    },
    {
      "cell_type": "code",
      "execution_count": null,
      "metadata": {},
      "outputs": [],
      "source": [
        "clf = tf.keras.Sequential([\n",
        "    *model.enc.layers[:-1],\n",
        "    tf.keras.layers.Dense(10)\n",
        "])\n",
        "clf(train_images[BATCH_SIZE])\n",
        "clf.trainable = False\n",
        "clf.layers[-1].trainable = True\n"
      ]
    }
  ],
  "metadata": {
    "accelerator": "GPU",
    "colab": {
      "provenance": [],
      "toc_visible": true
    },
    "kernelspec": {
      "display_name": "Python 3",
      "language": "python",
      "name": "python3"
    },
    "language_info": {
      "codemirror_mode": {
        "name": "ipython",
        "version": 3
      },
      "file_extension": ".py",
      "mimetype": "text/x-python",
      "name": "python",
      "nbconvert_exporter": "python",
      "pygments_lexer": "ipython3",
      "version": "3.10.9"
    }
  },
  "nbformat": 4,
  "nbformat_minor": 0
}
